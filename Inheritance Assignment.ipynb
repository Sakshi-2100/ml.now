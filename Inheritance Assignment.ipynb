{
 "cells": [
  {
   "cell_type": "code",
   "execution_count": 5,
   "id": "bbce28b1",
   "metadata": {},
   "outputs": [
    {
     "name": "stdout",
     "output_type": "stream",
     "text": [
      "This is shape\n"
     ]
    }
   ],
   "source": [
    "class shape:\n",
    "    def sentence(s):\n",
    "        print(\"This is shape\")\n",
    "class square(shape):\n",
    "    pass\n",
    "sq=square()\n",
    "sq.sentence()"
   ]
  },
  {
   "cell_type": "code",
   "execution_count": 2,
   "id": "846a515d",
   "metadata": {},
   "outputs": [
    {
     "name": "stdout",
     "output_type": "stream",
     "text": [
      "Enter side of square: 3\n",
      "Area of square 9\n",
      "Perimeter of square 12\n",
      "Enter length: 3\n",
      "Enter breadth: 4\n",
      "Area of rectangle 12\n",
      "Perimeter of rectangle 14\n"
     ]
    }
   ],
   "source": [
    "class Rectangle:\n",
    "    def __init__(s,l,b):\n",
    "        s.length=l\n",
    "        s.breadth=b\n",
    "    def area(s):\n",
    "        return s.length*s.breadth\n",
    "    def perimeter(s):\n",
    "        return 2*(s.length+s.breadth)\n",
    "class Square(Rectangle):\n",
    "    def __init__(s,side):\n",
    "        super().__init__(side,side)\n",
    "        \n",
    "side=int(input(\"Enter side of square: \"))\n",
    "s=Square(side)\n",
    "print(\"Area of square\",s.area())\n",
    "print(\"Perimeter of square\",s.perimeter())\n",
    "length=int(input(\"Enter length: \"))\n",
    "breadth=int(input(\"Enter breadth: \"))\n",
    "r=Rectangle(length,breadth)\n",
    "print(\"Area of rectangle\",r.area())\n",
    "print(\"Perimeter of rectangle\",r.perimeter())"
   ]
  },
  {
   "cell_type": "code",
   "execution_count": 3,
   "id": "abfcdc3b",
   "metadata": {},
   "outputs": [
    {
     "name": "stdout",
     "output_type": "stream",
     "text": [
      "This is shape\n",
      "This is rectangular shape\n"
     ]
    }
   ],
   "source": [
    "class Shape:\n",
    "    def show(s):\n",
    "        print(\"This is shape\")\n",
    "class Rectangle(Shape):\n",
    "    def show1(s):\n",
    "        print(\"This is rectangular shape\")\n",
    "class Circle(Shape):\n",
    "    def show2(s):\n",
    "        print(\"This is circular shape\")\n",
    "class Square(Rectangle):\n",
    "    def show3(s):\n",
    "        print(\"Square is a rectangle\")\n",
    "\n",
    "sq=Square()\n",
    "sq.show()\n",
    "sq.show1()\n"
   ]
  },
  {
   "cell_type": "code",
   "execution_count": null,
   "id": "89a223bc",
   "metadata": {},
   "outputs": [],
   "source": []
  }
 ],
 "metadata": {
  "kernelspec": {
   "display_name": "Python 3",
   "language": "python",
   "name": "python3"
  },
  "language_info": {
   "codemirror_mode": {
    "name": "ipython",
    "version": 3
   },
   "file_extension": ".py",
   "mimetype": "text/x-python",
   "name": "python",
   "nbconvert_exporter": "python",
   "pygments_lexer": "ipython3",
   "version": "3.9.5"
  }
 },
 "nbformat": 4,
 "nbformat_minor": 5
}
