{
 "cells": [
  {
   "cell_type": "code",
   "execution_count": 1,
   "id": "f9a26713",
   "metadata": {},
   "outputs": [
    {
     "name": "stdout",
     "output_type": "stream",
     "text": [
      "PNB Interest Rate: 10\n",
      "SBI Interest Rate: 5\n",
      "Bank Interest Rate: 0\n"
     ]
    }
   ],
   "source": [
    "class bank:\n",
    "    def interest(s):\n",
    "        return 0\n",
    "class pnb(bank):\n",
    "    def interest(s):\n",
    "        return 10\n",
    "class sbi(bank):\n",
    "    def interest(s):\n",
    "        return 5\n",
    "p=pnb()\n",
    "print(\"PNB Interest Rate:\",p.interest())\n",
    "s=sbi()\n",
    "print(\"SBI Interest Rate:\",s.interest())\n",
    "b=bank()\n",
    "print(\"Bank Interest Rate:\",b.interest())\n"
   ]
  },
  {
   "cell_type": "code",
   "execution_count": null,
   "id": "b6755471",
   "metadata": {},
   "outputs": [],
   "source": [
    "try:\n",
    "    x=int(input(\"Enter a number: \"))\n",
    "    y=int(input(\"Enter another number: \"))\n",
    "    c=x/y\n",
    "    print(\"Result\",c)\n",
    "except ZeroDivisionError:\n",
    "    print(\"Error! You are dividing by zero\")\n",
    "    "
   ]
  },
  {
   "cell_type": "code",
   "execution_count": null,
   "id": "b8d3660d",
   "metadata": {},
   "outputs": [],
   "source": [
    "try:\n",
    "    x=int(input(\"Enter a number\"))\n",
    "    print(x)\n",
    "except ValueError:\n",
    "    print(\"Error!! Enter number only\")"
   ]
  },
  {
   "cell_type": "code",
   "execution_count": null,
   "id": "36e78e58",
   "metadata": {},
   "outputs": [],
   "source": [
    "try:\n",
    "    geek=input(\"Enter a string\")\n",
    "    print(geeky)\n",
    "except NameError:\n",
    "    print(\"Error!! geeky is not defined\")"
   ]
  },
  {
   "cell_type": "code",
   "execution_count": null,
   "id": "3503c7f7",
   "metadata": {},
   "outputs": [],
   "source": []
  }
 ],
 "metadata": {
  "kernelspec": {
   "display_name": "Python 3",
   "language": "python",
   "name": "python3"
  },
  "language_info": {
   "codemirror_mode": {
    "name": "ipython",
    "version": 3
   },
   "file_extension": ".py",
   "mimetype": "text/x-python",
   "name": "python",
   "nbconvert_exporter": "python",
   "pygments_lexer": "ipython3",
   "version": "3.9.5"
  }
 },
 "nbformat": 4,
 "nbformat_minor": 5
}
