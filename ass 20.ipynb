{
 "cells": [
  {
   "cell_type": "code",
   "execution_count": 1,
   "id": "2d006362",
   "metadata": {},
   "outputs": [
    {
     "data": {
      "text/plain": [
       "'\\ncreate table personal\\n(\\nid int primary key,\\nname varchar(30),\\ncontactno varchar(15),\\nemailaddress varchar(50)\\n);\\n'"
      ]
     },
     "execution_count": 1,
     "metadata": {},
     "output_type": "execute_result"
    }
   ],
   "source": [
    "'''\n",
    "create table personal\n",
    "(\n",
    "id int primary key,\n",
    "name varchar(30),\n",
    "contactno varchar(15),\n",
    "emailaddress varchar(50)\n",
    ");\n",
    "'''"
   ]
  },
  {
   "cell_type": "code",
   "execution_count": 2,
   "id": "a9c24ea5",
   "metadata": {},
   "outputs": [
    {
     "data": {
      "text/plain": [
       "'\\ncursor.execute(\"INSERT INTO `personal` (`id`, `name`, `contactno`, `emailaddress`) VALUES (\\'2\\', \\'Prateek\\', \\'12\\', \\'111\\'); \")\\nmydb.commit()\\n'"
      ]
     },
     "execution_count": 2,
     "metadata": {},
     "output_type": "execute_result"
    }
   ],
   "source": [
    "'''\n",
    "cursor.execute(\"INSERT INTO `personal` (`id`, `name`, `contactno`, `emailaddress`) VALUES ('2', 'Prateek', '12', '111'); \")\n",
    "mydb.commit()\n",
    "'''"
   ]
  },
  {
   "cell_type": "code",
   "execution_count": 3,
   "id": "756fa85f",
   "metadata": {},
   "outputs": [
    {
     "data": {
      "text/plain": [
       "'\\nname = [\\'Prateek\\',\\'Sakshi\\',\\'Adarsh\\']\\ncontact=[\\'12\\',\\'32\\',\\'33\\']\\nemail = [\\'a\\',\\'b\\',\\'c\\']\\nfor i in range(3):\\ncursor.execute(\"INSERT INTO `personal` (`id`, `name`, `contactno`, `emailaddress`) VALUES (\\'{}\\', \\'{}\\', \\'{}\\', \\'{}\\'); \".format(i+3,name[i],contact[i],email[i]))\\nmydb.commit()\\n'"
      ]
     },
     "execution_count": 3,
     "metadata": {},
     "output_type": "execute_result"
    }
   ],
   "source": [
    "'''\n",
    "name = ['Prateek','Sakshi','Adarsh']\n",
    "contact=['12','32','33']\n",
    "email = ['a','b','c']\n",
    "for i in range(3):\n",
    "cursor.execute(\"INSERT INTO `personal` (`id`, `name`, `contactno`, `emailaddress`) VALUES ('{}', '{}', '{}', '{}'); \".format(i+3,name[i],contact[i],email[i]))\n",
    "mydb.commit()\n",
    "'''"
   ]
  },
  {
   "cell_type": "code",
   "execution_count": 4,
   "id": "acc23857",
   "metadata": {},
   "outputs": [
    {
     "data": {
      "text/plain": [
       "'\\ncursor.execute(\"SELECT * FROM customers\")\\nmyresult = cursor.fetchall()\\nfor x in myresult:\\n  print(x)\\n'"
      ]
     },
     "execution_count": 4,
     "metadata": {},
     "output_type": "execute_result"
    }
   ],
   "source": [
    "'''\n",
    "cursor.execute(\"SELECT * FROM customers\")\n",
    "myresult = cursor.fetchall()\n",
    "for x in myresult:\n",
    "  print(x)\n",
    "'''"
   ]
  },
  {
   "cell_type": "code",
   "execution_count": null,
   "id": "acffe7eb",
   "metadata": {},
   "outputs": [],
   "source": []
  }
 ],
 "metadata": {
  "kernelspec": {
   "display_name": "Python 3",
   "language": "python",
   "name": "python3"
  },
  "language_info": {
   "codemirror_mode": {
    "name": "ipython",
    "version": 3
   },
   "file_extension": ".py",
   "mimetype": "text/x-python",
   "name": "python",
   "nbconvert_exporter": "python",
   "pygments_lexer": "ipython3",
   "version": "3.9.5"
  }
 },
 "nbformat": 4,
 "nbformat_minor": 5
}
