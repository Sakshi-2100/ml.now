{
 "cells": [
  {
   "cell_type": "code",
   "execution_count": 1,
   "id": "4279383a",
   "metadata": {},
   "outputs": [
    {
     "data": {
      "text/plain": [
       "'\\nSupervised learning, also known as supervised machine learning, is a subcategory of machine learning and artificial intelligence. It is defined by its use of labeled datasets to train algorithms that to classify data or predict outcomes accurately. As input data is fed into the model, it adjusts its weights until the model has been fitted appropriately, which occurs as part of the cross validation process. Supervised learning helps organizations solve for a variety of real-world problems at scale, such as classifying spam in a separate folder from your inbox.\\n\\n'"
      ]
     },
     "execution_count": 1,
     "metadata": {},
     "output_type": "execute_result"
    }
   ],
   "source": [
    "'''\n",
    "Supervised learning, also known as supervised machine learning, is a subcategory of machine learning and artificial intelligence. It is defined by its use of labeled datasets to train algorithms that to classify data or predict outcomes accurately. As input data is fed into the model, it adjusts its weights until the model has been fitted appropriately, which occurs as part of the cross validation process. Supervised learning helps organizations solve for a variety of real-world problems at scale, such as classifying spam in a separate folder from your inbox.\n",
    "\n",
    "'''"
   ]
  },
  {
   "cell_type": "code",
   "execution_count": 2,
   "id": "cb9071d7",
   "metadata": {},
   "outputs": [
    {
     "data": {
      "text/plain": [
       "'\\nLinear Regression is used to estimate real world values like cos of houses and number of calls etc. based on continuous variables. Here we establish reationship between dependent and independent variables by fitting a best line.\\n\\nIt is of 2 types:\\n\\n1. Simple Linear Regression- One independent variable\\n\\n2. Multiple Linear Regression- More than one independent variables\\n\\n'"
      ]
     },
     "execution_count": 2,
     "metadata": {},
     "output_type": "execute_result"
    }
   ],
   "source": [
    "'''\n",
    "Linear Regression is used to estimate real world values like cos of houses and number of calls etc. based on continuous variables. Here we establish reationship between dependent and independent variables by fitting a best line.\n",
    "\n",
    "It is of 2 types:\n",
    "\n",
    "1. Simple Linear Regression- One independent variable\n",
    "\n",
    "2. Multiple Linear Regression- More than one independent variables\n",
    "\n",
    "'''"
   ]
  },
  {
   "cell_type": "code",
   "execution_count": 3,
   "id": "d57413a9",
   "metadata": {},
   "outputs": [
    {
     "data": {
      "text/plain": [
       "'\\nLogistic Regression describes and estimate the relationship between one dependent binary variable and independent variables\\n\\nTypes of Logistic Regression:\\n\\n1. Binary Logistic Regression- The target variable has only two possible outcomes.\\n\\n2. Multinominal Logistic Regression- The target variable has three or more nominal categories.\\n\\n3. Ordinal Logistic Regression- The target variable has three or more ordinal categories. \\n\\n'"
      ]
     },
     "execution_count": 3,
     "metadata": {},
     "output_type": "execute_result"
    }
   ],
   "source": [
    "'''\n",
    "Logistic Regression describes and estimate the relationship between one dependent binary variable and independent variables\n",
    "\n",
    "Types of Logistic Regression:\n",
    "\n",
    "1. Binary Logistic Regression- The target variable has only two possible outcomes.\n",
    "\n",
    "2. Multinominal Logistic Regression- The target variable has three or more nominal categories.\n",
    "\n",
    "3. Ordinal Logistic Regression- The target variable has three or more ordinal categories. \n",
    "\n",
    "'''"
   ]
  },
  {
   "cell_type": "code",
   "execution_count": 4,
   "id": "364a97cb",
   "metadata": {},
   "outputs": [
    {
     "data": {
      "text/plain": [
       "'\\nLinear Regression gives continuous output example house price and stock price whereas logistic regression gives constant output example predicting whether a person has cancer or not.\\n\\nLinear Regression is estimated using Ordinary Least Square (OLS) while Logistic Regression is estimated using Maximum Likelihood Estimation(MLE) approach.\\n\\n'"
      ]
     },
     "execution_count": 4,
     "metadata": {},
     "output_type": "execute_result"
    }
   ],
   "source": [
    "'''\n",
    "Linear Regression gives continuous output example house price and stock price whereas logistic regression gives constant output example predicting whether a person has cancer or not.\n",
    "\n",
    "Linear Regression is estimated using Ordinary Least Square (OLS) while Logistic Regression is estimated using Maximum Likelihood Estimation(MLE) approach.\n",
    "\n",
    "'''"
   ]
  },
  {
   "cell_type": "code",
   "execution_count": 9,
   "id": "e1a96788",
   "metadata": {},
   "outputs": [],
   "source": [
    "def slope_intercept(x_val,y_val):\n",
    "    x=np.array(x_val)\n",
    "    y=np.array(y_val)\n",
    "    m=(((np.mean(x)*np.mean(y))-np.mean(x*y))/((np.mean(x)*np.mean(x))-np.mean(x*x)))\n",
    "    m=round(m,2)\n",
    "    b=(np.mean(y)-np.mean(x)*m)\n",
    "    b=round(b,2)\n",
    "    return m,b"
   ]
  },
  {
   "cell_type": "code",
   "execution_count": 14,
   "id": "248ac10e",
   "metadata": {},
   "outputs": [
    {
     "data": {
      "image/png": "[encoded data removed]",
      "text/plain": [
       "<Figure size 432x288 with 1 Axes>"
      ]
     },
     "metadata": {
      "needs_background": "light"
     },
     "output_type": "display_data"
    }
   ],
   "source": [
    "import numpy as np\n",
    "import matplotlib.pyplot as plt\n",
    "x=[0,1,2,3,4,5,6,7,8,9]\n",
    "y=[1,3,5,2,7,8,8,9,10,12]\n",
    "m,b=slope_intercept(x,y)\n",
    "reg_line=[(m*x)+b for x in x]\n",
    "plt.scatter(x,y)\n",
    "plt.plot(x,reg_line)\n",
    "plt.title(\"Core Linear Regression\")\n",
    "plt.xlabel(\"Independent Variables\")\n",
    "plt.ylabel(\"Dependent Variables\")\n",
    "plt.show()"
   ]
  },
  {
   "cell_type": "code",
   "execution_count": null,
   "id": "fec5e345",
   "metadata": {},
   "outputs": [],
   "source": []
  }
 ],
 "metadata": {
  "kernelspec": {
   "display_name": "Python 3",
   "language": "python",
   "name": "python3"
  },
  "language_info": {
   "codemirror_mode": {
    "name": "ipython",
    "version": 3
   },
   "file_extension": ".py",
   "mimetype": "text/x-python",
   "name": "python",
   "nbconvert_exporter": "python",
   "pygments_lexer": "ipython3",
   "version": "3.9.5"
  }
 },
 "nbformat": 4,
 "nbformat_minor": 5
}
