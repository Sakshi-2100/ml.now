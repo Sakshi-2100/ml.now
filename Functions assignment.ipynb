{
 "cells": [
  {
   "cell_type": "code",
   "execution_count": 4,
   "id": "c977ecb7",
   "metadata": {},
   "outputs": [
    {
     "name": "stdout",
     "output_type": "stream",
     "text": [
      "Enter radius of the circle: 7\n",
      "Area of circle:  153.86\n",
      "Perimeter of circle:  43.96\n"
     ]
    }
   ],
   "source": [
    "def area(r):\n",
    "    return 3.14*r*r\n",
    "def perimeter(r):\n",
    "    return 2*3.14*r\n",
    "\n",
    "r=int(input(\"Enter radius of the circle: \"))\n",
    "print(\"Area of circle: \",area(r))\n",
    "print(\"Perimeter of circle: \",perimeter(r))"
   ]
  },
  {
   "cell_type": "code",
   "execution_count": 7,
   "id": "16a4e1e0",
   "metadata": {},
   "outputs": [
    {
     "name": "stdout",
     "output_type": "stream",
     "text": [
      "Enter any number5\n",
      "The factorial of 5 is:  120\n"
     ]
    }
   ],
   "source": [
    "#Recursion\n",
    "def factorial(n):\n",
    "    if n==0:\n",
    "        return 1\n",
    "    else:\n",
    "        return n*factorial(n-1)\n",
    "    \n",
    "n=int(input(\"Enter any number: \"))\n",
    "print(\"The factorial of\",n,\"is: \",factorial(n))"
   ]
  },
  {
   "cell_type": "code",
   "execution_count": null,
   "id": "052dd21a",
   "metadata": {},
   "outputs": [],
   "source": []
  }
 ],
 "metadata": {
  "kernelspec": {
   "display_name": "Python 3",
   "language": "python",
   "name": "python3"
  },
  "language_info": {
   "codemirror_mode": {
    "name": "ipython",
    "version": 3
   },
   "file_extension": ".py",
   "mimetype": "text/x-python",
   "name": "python",
   "nbconvert_exporter": "python",
   "pygments_lexer": "ipython3",
   "version": "3.9.5"
  }
 },
 "nbformat": 4,
 "nbformat_minor": 5
}
