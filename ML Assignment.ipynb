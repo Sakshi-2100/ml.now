{
 "cells": [
  {
   "cell_type": "code",
   "execution_count": 1,
   "id": "c12289c1",
   "metadata": {},
   "outputs": [
    {
     "data": {
      "text/plain": [
       "'Machine learning is an application of artificial intelligence (AI) that provides systems the ability to automatically learn and improve from experience without being explicitly programmed. Machine learning focuses on the development of computer programs that can access data and use it to learn for themselves\\n\\nThe applications of Machine Learning are:\\n\\nHealthcare\\nFinance\\nRetail\\nTravel\\nMedia\\nSpeech Recognisation\\nImage Processing\\nCRM\\nVirtual Assistant'"
      ]
     },
     "execution_count": 1,
     "metadata": {},
     "output_type": "execute_result"
    }
   ],
   "source": [
    "\n",
    "'''Machine learning is an application of artificial intelligence (AI) that provides systems the ability to automatically learn and improve from experience without being explicitly programmed. Machine learning focuses on the development of computer programs that can access data and use it to learn for themselves\n",
    "\n",
    "The applications of Machine Learning are:\n",
    "\n",
    "Healthcare\n",
    "Finance\n",
    "Retail\n",
    "Travel\n",
    "Media\n",
    "Speech Recognisation\n",
    "Image Processing\n",
    "CRM\n",
    "Virtual Assistant'''"
   ]
  },
  {
   "cell_type": "code",
   "execution_count": 3,
   "id": "67b7b771",
   "metadata": {},
   "outputs": [
    {
     "data": {
      "text/plain": [
       "'There are three types of machine learning:\\nSupervised Learning: In this the algorithm is trained by example of input and output provided by humans.\\nUnsupervised Learning: In this an iterative approach called deep learning is used to review data and to arrive at conclusions.\\nReinforcement Learning: It allows the agent to decide the best next action based on its current state, by learning behavior that will maximise the record.'"
      ]
     },
     "execution_count": 3,
     "metadata": {},
     "output_type": "execute_result"
    }
   ],
   "source": [
    "'''There are three types of machine learning:\n",
    "Supervised Learning: In this the algorithm is trained by example of input and output provided by humans.\n",
    "Unsupervised Learning: In this an iterative approach called deep learning is used to review data and to arrive at conclusions.\n",
    "Reinforcement Learning: It allows the agent to decide the best next action based on its current state, by learning behavior that will maximise the record.'''"
   ]
  },
  {
   "cell_type": "code",
   "execution_count": 4,
   "id": "0acffa0f",
   "metadata": {},
   "outputs": [
    {
     "data": {
      "text/plain": [
       "'\\nSupervised learning is the technique of accomplishing a task by providing training, input and output patterns to the systems whereas unsupervised learning is a self-learning technique in which system has to discover the features of the input population by its own and no prior set of categories are used.'"
      ]
     },
     "execution_count": 4,
     "metadata": {},
     "output_type": "execute_result"
    }
   ],
   "source": [
    "'''\n",
    "Supervised learning is the technique of accomplishing a task by providing training, input and output patterns to the systems whereas unsupervised learning is a self-learning technique in which system has to discover the features of the input population by its own and no prior set of categories are used.'''"
   ]
  },
  {
   "cell_type": "code",
   "execution_count": null,
   "id": "cf6bf5b0",
   "metadata": {},
   "outputs": [],
   "source": []
  }
 ],
 "metadata": {
  "kernelspec": {
   "display_name": "Python 3",
   "language": "python",
   "name": "python3"
  },
  "language_info": {
   "codemirror_mode": {
    "name": "ipython",
    "version": 3
   },
   "file_extension": ".py",
   "mimetype": "text/x-python",
   "name": "python",
   "nbconvert_exporter": "python",
   "pygments_lexer": "ipython3",
   "version": "3.9.5"
  }
 },
 "nbformat": 4,
 "nbformat_minor": 5
}
