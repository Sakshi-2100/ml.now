{
 "cells": [
  {
   "cell_type": "code",
   "execution_count": 14,
   "id": "353ec0cc",
   "metadata": {},
   "outputs": [
    {
     "name": "stdout",
     "output_type": "stream",
     "text": [
      "Enter Student's Roll Number: 1\n",
      "Enter Student's name: Prateek Srivastava\n",
      "Enter Student's fees: 80000\n",
      "Student's Roll No:  1\n",
      "Student's Name:  Prateek Srivastava\n",
      "Student's Fee:  80000\n"
     ]
    }
   ],
   "source": [
    "class Student:\n",
    "    def setValue(self,rollno,name,fee):\n",
    "        self.rollno=rollno\n",
    "        self.name=name\n",
    "        self.fee=fee\n",
    "    def display(self):\n",
    "        print(\"Student's Roll No: \",self.rollno)\n",
    "        print(\"Student's Name: \",self.name)\n",
    "        print(\"Student's Fee: \",self.fee)\n",
    "        \n",
    "s=Student()\n",
    "r=int(input(\"Enter Student's Roll Number: \"))\n",
    "name=input(\"Enter Student's name: \")\n",
    "f=int(input(\"Enter Student's fees: \"))\n",
    "s.setValue(r,name,f)\n",
    "s.display()\n",
    "        "
   ]
  },
  {
   "cell_type": "code",
   "execution_count": 8,
   "id": "05030936",
   "metadata": {},
   "outputs": [
    {
     "name": "stdout",
     "output_type": "stream",
     "text": [
      "Enter Principle: 1000\n",
      "Enter Time: 1\n",
      "Enter Rate in percent form: 5\n",
      "The Simple Interest is:  50.0\n"
     ]
    }
   ],
   "source": [
    "class Interest:\n",
    "    def __init__(self,p,n,r):\n",
    "        self.p=p\n",
    "        self.n=n\n",
    "        self.r=r\n",
    "    def simpleInterest(self):\n",
    "        return self.p*self.n*self.r/100\n",
    "\n",
    "p=int(input(\"Enter Principle: \"))\n",
    "n=int(input(\"Enter Time: \"))\n",
    "r=int(input(\"Enter Rate in percent form: \"))\n",
    "si=Interest(n,p,r)\n",
    "SI=si.simpleInterest()\n",
    "print(\"The Simple Interest is: \",SI)"
   ]
  },
  {
   "cell_type": "code",
   "execution_count": 15,
   "id": "a5a1d049",
   "metadata": {},
   "outputs": [
    {
     "name": "stdout",
     "output_type": "stream",
     "text": [
      "Enter length: 2\n",
      "Enter breadth: 3\n",
      "The area of rectangle is 6\n",
      "The perimeter of rectangle is 10\n"
     ]
    }
   ],
   "source": [
    "class Rectangle:\n",
    "    length=0\n",
    "    breadth=0\n",
    "    def __init__(s,l,b):\n",
    "        s.length=l\n",
    "        s.breadth=b\n",
    "    def rectArea(s):\n",
    "        return s.length*s.breadth\n",
    "    def rectPeri(s):\n",
    "        return 2*(s.length+s.breadth)\n",
    "l=int(input(\"Enter length: \"))\n",
    "b=int(input(\"Enter breadth: \"))\n",
    "r=Rectangle(l,b)\n",
    "area=r.rectArea()\n",
    "perimeter=r.rectPeri()\n",
    "print(\"The area of rectangle is\",area)\n",
    "print(\"The perimeter of rectangle is\",perimeter)"
   ]
  },
  {
   "cell_type": "code",
   "execution_count": null,
   "id": "44b6529b",
   "metadata": {},
   "outputs": [],
   "source": []
  }
 ],
 "metadata": {
  "kernelspec": {
   "display_name": "Python 3",
   "language": "python",
   "name": "python3"
  },
  "language_info": {
   "codemirror_mode": {
    "name": "ipython",
    "version": 3
   },
   "file_extension": ".py",
   "mimetype": "text/x-python",
   "name": "python",
   "nbconvert_exporter": "python",
   "pygments_lexer": "ipython3",
   "version": "3.9.5"
  }
 },
 "nbformat": 4,
 "nbformat_minor": 5
}
