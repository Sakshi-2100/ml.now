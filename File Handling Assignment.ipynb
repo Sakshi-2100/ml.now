{
 "cells": [
  {
   "cell_type": "code",
   "execution_count": 2,
   "id": "abdecd74",
   "metadata": {},
   "outputs": [
    {
     "name": "stdout",
     "output_type": "stream",
     "text": [
      "Enter Student's Roll Number: 1\n",
      "Enter Student's Name: Prateek Srivastava\n",
      "Enter Student's Address: Allahabad\n",
      "Enter Contact Number: 7054404583\n",
      "Information is saved into the file.\n"
     ]
    }
   ],
   "source": [
    "#Write info to student.txt\n",
    "Rollno=int(input(\"Enter Student's Roll Number: \"))\n",
    "Name=input(\"Enter Student's Name: \")\n",
    "Address=input(\"Enter Student's Address: \")\n",
    "Contact_Number=input(\"Enter Contact Number: \")\n",
    "f=open(\"student.txt\",\"a\")\n",
    "f.write(\"Student's Roll Number=\"+str(Rollno)+\"\\n\"+\"Name=\"+Name+\"\\n\"+\"Address=\"+Address+\"\\n\"+\"Contact Number=\"+Contact_Number+\"\\n\")\n",
    "f.close()\n",
    "print(\"Information is saved into the file.\")\n"
   ]
  },
  {
   "cell_type": "code",
   "execution_count": null,
   "id": "a4bf7aea",
   "metadata": {},
   "outputs": [],
   "source": [
    "# WAP to read information from file\n",
    "f=None\n",
    "try:\n",
    "    filename=input(\"Enter the filename to be open: \")\n",
    "    f=open(filename,\"r\")\n",
    "    contents=f.read()\n",
    "    print(contents)\n",
    "except FileNotFoundError:\n",
    "    print(\"File does not exist\")\n",
    "finally:\n",
    "    if f!=None:\n",
    "        f.close()\n"
   ]
  }
 ],
 "metadata": {
  "kernelspec": {
   "display_name": "Python 3",
   "language": "python",
   "name": "python3"
  },
  "language_info": {
   "codemirror_mode": {
    "name": "ipython",
    "version": 3
   },
   "file_extension": ".py",
   "mimetype": "text/x-python",
   "name": "python",
   "nbconvert_exporter": "python",
   "pygments_lexer": "ipython3",
   "version": "3.9.5"
  }
 },
 "nbformat": 4,
 "nbformat_minor": 5
}
