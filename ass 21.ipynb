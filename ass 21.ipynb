{
 "cells": [
  {
   "cell_type": "code",
   "execution_count": 1,
   "id": "b4bf3462",
   "metadata": {},
   "outputs": [
    {
     "data": {
      "text/plain": [
       "'\\nArtificial Intelligence is all about training machines to mimic human behavior, specifically, the human brain and its thinking abilities. Similar to the human brain, AI systems develop the ability to rationalize and perform actions that have the best chance of achieving a specific goal.\\n\\nMachine Learning is naturally a subset of AI. It provides the statistical methods and algorithms and enables the machines/computers to learn automatically from their previous experiences and data and allows the program to change its behavior accordingly.\\n\\nDeep Learning can be thought of as the evolution of Machine Learning which takes inspiration from the functioning of the human brain. Deep Learning is used to solve complex problems where the data is huge, diverse, less structured. Deep learning models are built on top of Artificial Neural Networks, which mimics how human brain works.\\n'"
      ]
     },
     "execution_count": 1,
     "metadata": {},
     "output_type": "execute_result"
    }
   ],
   "source": [
    "'''\n",
    "Artificial Intelligence is all about training machines to mimic human behavior, specifically, the human brain and its thinking abilities. Similar to the human brain, AI systems develop the ability to rationalize and perform actions that have the best chance of achieving a specific goal.\n",
    "\n",
    "Machine Learning is naturally a subset of AI. It provides the statistical methods and algorithms and enables the machines/computers to learn automatically from their previous experiences and data and allows the program to change its behavior accordingly.\n",
    "\n",
    "Deep Learning can be thought of as the evolution of Machine Learning which takes inspiration from the functioning of the human brain. Deep Learning is used to solve complex problems where the data is huge, diverse, less structured. Deep learning models are built on top of Artificial Neural Networks, which mimics how human brain works.\n",
    "'''"
   ]
  },
  {
   "cell_type": "code",
   "execution_count": 2,
   "id": "727a156f",
   "metadata": {},
   "outputs": [
    {
     "data": {
      "text/plain": [
       "'\\nMachine Learning is naturally a subset of AI. It provides the statistical methods and algorithms and enables the machines/computers to learn automatically from their previous experiences and data and allows the program to change its behavior accordingly.\\n\\nDeep Learning can be thought of as the evolution of Machine Learning which takes inspiration from the functioning of the human brain. Deep Learning is used to solve complex problems where the data is huge, diverse, less structured. Deep learning models are built on top of Artificial Neural Networks, which mimics how human brain works.\\n'"
      ]
     },
     "execution_count": 2,
     "metadata": {},
     "output_type": "execute_result"
    }
   ],
   "source": [
    "'''\n",
    "Machine Learning is naturally a subset of AI. It provides the statistical methods and algorithms and enables the machines/computers to learn automatically from their previous experiences and data and allows the program to change its behavior accordingly.\n",
    "\n",
    "Deep Learning can be thought of as the evolution of Machine Learning which takes inspiration from the functioning of the human brain. Deep Learning is used to solve complex problems where the data is huge, diverse, less structured. Deep learning models are built on top of Artificial Neural Networks, which mimics how human brain works.\n",
    "'''"
   ]
  },
  {
   "cell_type": "code",
   "execution_count": 3,
   "id": "653b2e7b",
   "metadata": {},
   "outputs": [
    {
     "data": {
      "text/plain": [
       "'\\nAn artificial neural network (ANN) is the piece of a computing system designed to simulate the way the human brain analyzes and processes information. It is the foundation of AI and solves problems that would prove impossible or difficult by human or statistical standards. ANNs have self-learning capabilities that enable them to produce better results as more data becomes available.\\n'"
      ]
     },
     "execution_count": 3,
     "metadata": {},
     "output_type": "execute_result"
    }
   ],
   "source": [
    "'''\n",
    "An artificial neural network (ANN) is the piece of a computing system designed to simulate the way the human brain analyzes and processes information. It is the foundation of AI and solves problems that would prove impossible or difficult by human or statistical standards. ANNs have self-learning capabilities that enable them to produce better results as more data becomes available.\n",
    "'''"
   ]
  },
  {
   "cell_type": "code",
   "execution_count": null,
   "id": "53bd0824",
   "metadata": {},
   "outputs": [],
   "source": []
  }
 ],
 "metadata": {
  "kernelspec": {
   "display_name": "Python 3",
   "language": "python",
   "name": "python3"
  },
  "language_info": {
   "codemirror_mode": {
    "name": "ipython",
    "version": 3
   },
   "file_extension": ".py",
   "mimetype": "text/x-python",
   "name": "python",
   "nbconvert_exporter": "python",
   "pygments_lexer": "ipython3",
   "version": "3.9.5"
  }
 },
 "nbformat": 4,
 "nbformat_minor": 5
}
