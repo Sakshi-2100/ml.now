{
 "cells": [
  {
   "cell_type": "code",
   "execution_count": 4,
   "id": "4f8aacac",
   "metadata": {},
   "outputs": [
    {
     "name": "stdout",
     "output_type": "stream",
     "text": [
      "Enter a number: 1\n",
      "Enter a number: 2\n",
      "Enter a number: 3\n",
      "Enter a number: 4\n",
      "Enter a number: 5\n",
      "Enter a number: 6\n",
      "Enter a number: 7\n",
      "Enter a number: 8\n",
      "Enter a number: 9\n",
      "Enter a number: 10\n",
      "The list is:  [1, 2, 3, 4, 5, 6, 7, 8, 9, 10]\n",
      "The sum of numbers in list is:  55\n",
      "The average of numbers in list is:  5.5\n"
     ]
    }
   ],
   "source": [
    "mylist=[]\n",
    "for i in range (0,10):\n",
    "    n=int(input(\"Enter a number: \"))\n",
    "    mylist.append(n)\n",
    "print(\"The list is: \",mylist)\n",
    "print(\"The sum of numbers in list is: \",sum(mylist))\n",
    "print(\"The average of numbers in list is: \",sum(mylist)/n)"
   ]
  },
  {
   "cell_type": "code",
   "execution_count": 5,
   "id": "f17b276f",
   "metadata": {},
   "outputs": [
    {
     "name": "stdout",
     "output_type": "stream",
     "text": [
      "Enter name: sakshi\n",
      "Enter name: adarsh\n",
      "Enter name: deepa\n",
      "Enter name: prateek\n",
      "Enter name: deep\n",
      "The names you entered are:  ['sakshi', 'adarsh', 'deepa', 'prateek', 'deep']\n",
      "The names after sorting are: \n",
      "['adarsh', 'deep', 'deepa', 'prateek', 'sakshi']\n"
     ]
    }
   ],
   "source": [
    "mylist=[]\n",
    "for i in range(0,5):\n",
    "    name=input(\"Enter name: \")\n",
    "    mylist.append(name)\n",
    "print(\"The names you entered are: \",mylist)\n",
    "print(\"The names after sorting are: \")\n",
    "mylist.sort()\n",
    "print(mylist)"
   ]
  },
  {
   "cell_type": "code",
   "execution_count": 6,
   "id": "99f7d79a",
   "metadata": {},
   "outputs": [
    {
     "name": "stdout",
     "output_type": "stream",
     "text": [
      "Enter a number: 1\n",
      "Enter a number: 2\n",
      "Enter a number: 3\n",
      "Enter a number: 4\n",
      "Enter a number: 5\n",
      "Enter a number: 6\n",
      "Enter a number: 7\n",
      "Enter a number: 8\n",
      "Enter a number: 9\n",
      "Enter a number: 0\n",
      "The list is:  [1, 2, 3, 4, 5, 6, 7, 8, 9, 0]\n",
      "Maximum number:  9\n",
      "Minimum number:  0\n"
     ]
    }
   ],
   "source": [
    "mylist=[]\n",
    "for i in range (0,10):\n",
    "    n=int(input(\"Enter a number: \"))\n",
    "    mylist.append(n)\n",
    "print(\"The list is: \",mylist)\n",
    "print(\"Maximum number: \",max(mylist))\n",
    "print(\"Minimum number: \",min(mylist))"
   ]
  },
  {
   "cell_type": "code",
   "execution_count": 7,
   "id": "4c421294",
   "metadata": {},
   "outputs": [
    {
     "data": {
      "text/plain": [
       "{'empid': 1001, 'empname': 'Prateek Srivastava', 'salary': 150000}"
      ]
     },
     "execution_count": 7,
     "metadata": {},
     "output_type": "execute_result"
    }
   ],
   "source": [
    "dict1={\n",
    "    'empid':1001,\n",
    "    'empname':'Prateek Srivastava',\n",
    "    'salary':150000\n",
    "}\n",
    "print(dict1)"
   ]
  },
  {
   "cell_type": "code",
   "execution_count": null,
   "id": "98f986e7",
   "metadata": {},
   "outputs": [],
   "source": []
  }
 ],
 "metadata": {
  "kernelspec": {
   "display_name": "Python 3",
   "language": "python",
   "name": "python3"
  },
  "language_info": {
   "codemirror_mode": {
    "name": "ipython",
    "version": 3
   },
   "file_extension": ".py",
   "mimetype": "text/x-python",
   "name": "python",
   "nbconvert_exporter": "python",
   "pygments_lexer": "ipython3",
   "version": "3.9.5"
  }
 },
 "nbformat": 4,
 "nbformat_minor": 5
}
