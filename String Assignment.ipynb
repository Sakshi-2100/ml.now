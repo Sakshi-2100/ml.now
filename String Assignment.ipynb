{
 "cells": [
  {
   "cell_type": "code",
   "execution_count": 1,
   "id": "625425d5",
   "metadata": {},
   "outputs": [
    {
     "name": "stdout",
     "output_type": "stream",
     "text": [
      "Enter a stringsakshi\n",
      "No it is not pallindrome\n"
     ]
    }
   ],
   "source": [
    "#To check pallindrome\n",
    "s=input(\"Enter a string\")\n",
    "s2=\"\".join(reversed(s))\n",
    "if s==s2:\n",
    "    print(\"Yes it is pallindrome\")\n",
    "else:\n",
    "    print(\"No it is not pallindrome\")"
   ]
  },
  {
   "cell_type": "code",
   "execution_count": 2,
   "id": "32ea14d3",
   "metadata": {},
   "outputs": [
    {
     "name": "stdout",
     "output_type": "stream",
     "text": [
      "Enter a sentencesakhsi is a dood firl\n",
      "Enter the wordfirl\n",
      "Yes\n"
     ]
    }
   ],
   "source": [
    "#To check the given word is in sentence or not\n",
    "s=input(\"Enter a sentence\")\n",
    "f=input(\"Enter the word\")\n",
    "if f in s:\n",
    "    print(\"Yes\")\n",
    "else:\n",
    "    print(\"No\")"
   ]
  },
  {
   "cell_type": "code",
   "execution_count": 3,
   "id": "ce9079da",
   "metadata": {},
   "outputs": [
    {
     "name": "stdout",
     "output_type": "stream",
     "text": [
      "Enter a sentence: sakshi is a very very good girl\n",
      "Enter the word to be searched: very\n",
      "2\n"
     ]
    }
   ],
   "source": [
    "#To find the ocurence of given word in sentence\n",
    "s=input(\"Enter a sentence: \")\n",
    "w=input(\"Enter the word to be searched: \")\n",
    "list=s.split()\n",
    "c=0\n",
    "for i in list:\n",
    "    if i==w:\n",
    "        c=c+1\n",
    "print(c)"
   ]
  },
  {
   "cell_type": "code",
   "execution_count": 4,
   "id": "9172af05",
   "metadata": {},
   "outputs": [
    {
     "name": "stdout",
     "output_type": "stream",
     "text": [
      "Enter a sentence: sakhsi is a vetu doof fiel\n",
      "The number of words in given sentence is: 6\n"
     ]
    }
   ],
   "source": [
    "#To count the number of words\n",
    "s=input(\"Enter a sentence: \")\n",
    "list=s.split()\n",
    "print(\"The number of words in given sentence is:\",len(list))"
   ]
  },
  {
   "cell_type": "code",
   "execution_count": null,
   "id": "a159884e",
   "metadata": {},
   "outputs": [],
   "source": []
  }
 ],
 "metadata": {
  "kernelspec": {
   "display_name": "Python 3",
   "language": "python",
   "name": "python3"
  },
  "language_info": {
   "codemirror_mode": {
    "name": "ipython",
    "version": 3
   },
   "file_extension": ".py",
   "mimetype": "text/x-python",
   "name": "python",
   "nbconvert_exporter": "python",
   "pygments_lexer": "ipython3",
   "version": "3.9.5"
  }
 },
 "nbformat": 4,
 "nbformat_minor": 5
}
