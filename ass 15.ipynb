{
 "cells": [
  {
   "cell_type": "code",
   "execution_count": 1,
   "id": "67821edf",
   "metadata": {},
   "outputs": [
    {
     "data": {
      "text/plain": [
       "'\\nCategorical data refers to the information that has specific categories within the dataset.Machine Learning models are primarily based on mathematical equations, keeping categorical data can create certain issues since we need only numbers in equations.\\n'"
      ]
     },
     "execution_count": 1,
     "metadata": {},
     "output_type": "execute_result"
    }
   ],
   "source": [
    "'''\n",
    "Categorical data refers to the information that has specific categories within the dataset.Machine Learning models are primarily based on mathematical equations, keeping categorical data can create certain issues since we need only numbers in equations.\n",
    "'''"
   ]
  },
  {
   "cell_type": "code",
   "execution_count": 2,
   "id": "b128ec59",
   "metadata": {},
   "outputs": [
    {
     "data": {
      "text/plain": [
       "'\\nFeature Scaling is standardization of independent variables of dataset within specific range.\\n'"
      ]
     },
     "execution_count": 2,
     "metadata": {},
     "output_type": "execute_result"
    }
   ],
   "source": [
    "'''\n",
    "Feature Scaling is standardization of independent variables of dataset within specific range.\n",
    "'''"
   ]
  },
  {
   "cell_type": "code",
   "execution_count": 3,
   "id": "36b3abd5",
   "metadata": {},
   "outputs": [
    {
     "data": {
      "text/plain": [
       "'\\nThere are 2 ways of implementing feature scaling in ML:\\n\\n1. Normalisation: Values are shifted and rescaled so that they end up ranging in between 0 and 1.\\n\\n2. Standardisation: Values are centered to mean with unit standard deviation.\\n'"
      ]
     },
     "execution_count": 3,
     "metadata": {},
     "output_type": "execute_result"
    }
   ],
   "source": [
    "'''\n",
    "There are 2 ways of implementing feature scaling in ML:\n",
    "\n",
    "1. Normalisation: Values are shifted and rescaled so that they end up ranging in between 0 and 1.\n",
    "\n",
    "2. Standardisation: Values are centered to mean with unit standard deviation.\n",
    "'''"
   ]
  },
  {
   "cell_type": "code",
   "execution_count": null,
   "id": "9180c993",
   "metadata": {},
   "outputs": [],
   "source": []
  }
 ],
 "metadata": {
  "kernelspec": {
   "display_name": "Python 3",
   "language": "python",
   "name": "python3"
  },
  "language_info": {
   "codemirror_mode": {
    "name": "ipython",
    "version": 3
   },
   "file_extension": ".py",
   "mimetype": "text/x-python",
   "name": "python",
   "nbconvert_exporter": "python",
   "pygments_lexer": "ipython3",
   "version": "3.9.5"
  }
 },
 "nbformat": 4,
 "nbformat_minor": 5
}
