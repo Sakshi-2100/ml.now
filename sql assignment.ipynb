{
 "cells": [
  {
   "cell_type": "code",
   "execution_count": 1,
   "id": "89db7e57",
   "metadata": {},
   "outputs": [
    {
     "data": {
      "text/plain": [
       "'\\nCREATE TABLE cust_info(Cust_ID int primary key, Cust_Name varchar(20), Cust_Address varchar(100), Cust_connect_date varchar(10), Contact_No varchar(15) );\\n'"
      ]
     },
     "execution_count": 1,
     "metadata": {},
     "output_type": "execute_result"
    }
   ],
   "source": [
    "'''\n",
    "CREATE TABLE cust_info(Cust_ID int primary key, Cust_Name varchar(20), Cust_Address varchar(100), Cust_connect_date varchar(10), Contact_No varchar(15) );\n",
    "'''"
   ]
  },
  {
   "cell_type": "code",
   "execution_count": 2,
   "id": "aa1dcac0",
   "metadata": {},
   "outputs": [
    {
     "data": {
      "text/plain": [
       "\"\\nINSERT INTO cust_info (Cust_Id, Cust_Name, Cust_Address, Cust_connect_date, Contact_No) VALUES\\n\\n(101, 'Rajeev Singh','Lucknow','12-12-2012','05226565114'),\\n\\n(102, 'Jitendra Verma','Sitapur','01-01-2013','9838505980'),\\n\\n(103,'Ravi Singh','barabanki','15-01-2013','9936652039'), \\n\\n(104,'priya Singh','Lucknow','16-01-2013','9936390301'), \\n\\n(105,'Brijesh Mishra','barabanki','16-02-2013','8738970899'),\\n\\n(106,'Amit Singh','Lucknow','18-03-2013','05482202798');\\n\""
      ]
     },
     "execution_count": 2,
     "metadata": {},
     "output_type": "execute_result"
    }
   ],
   "source": [
    "'''\n",
    "INSERT INTO cust_info (Cust_Id, Cust_Name, Cust_Address, Cust_connect_date, Contact_No) VALUES\n",
    "\n",
    "(101, 'Rajeev Singh','Lucknow','12-12-2012','05226565114'),\n",
    "\n",
    "(102, 'Jitendra Verma','Sitapur','01-01-2013','9838505980'),\n",
    "\n",
    "(103,'Ravi Singh','barabanki','15-01-2013','9936652039'), \n",
    "\n",
    "(104,'priya Singh','Lucknow','16-01-2013','9936390301'), \n",
    "\n",
    "(105,'Brijesh Mishra','barabanki','16-02-2013','8738970899'),\n",
    "\n",
    "(106,'Amit Singh','Lucknow','18-03-2013','05482202798');\n",
    "'''"
   ]
  },
  {
   "cell_type": "code",
   "execution_count": 4,
   "id": "02d85122",
   "metadata": {},
   "outputs": [
    {
     "data": {
      "text/plain": [
       "\"\\ni) SELECT * FROM cust_info;\\n\\nii) SELECT Cust_Id, Cust_Name FROM cust_info;\\n\\niii) SELECT Cust_Id, Cust_Name, Cust_connect_date FROM cust_info WHERE Cust_connect_date>15-01-2013;\\n\\niv)  SELECT * FROM cust_info WHERE Cust_Address='Lucknow';\\n\\nv) SELECT * FROM cust_info ORDER BY Cust_Name ASC;\\n\\nvi) SELECT * FROM cust_info ORDER BY Cust_Name DESC;\\n\\n\""
      ]
     },
     "execution_count": 4,
     "metadata": {},
     "output_type": "execute_result"
    }
   ],
   "source": [
    "'''\n",
    "i) SELECT * FROM cust_info;\n",
    "\n",
    "ii) SELECT Cust_Id, Cust_Name FROM cust_info;\n",
    "\n",
    "iii) SELECT Cust_Id, Cust_Name, Cust_connect_date FROM cust_info WHERE Cust_connect_date>15-01-2013;\n",
    "\n",
    "iv)  SELECT * FROM cust_info WHERE Cust_Address='Lucknow';\n",
    "\n",
    "v) SELECT * FROM cust_info ORDER BY Cust_Name ASC;\n",
    "\n",
    "vi) SELECT * FROM cust_info ORDER BY Cust_Name DESC;\n",
    "\n",
    "'''"
   ]
  },
  {
   "cell_type": "code",
   "execution_count": 3,
   "id": "8b12838c",
   "metadata": {},
   "outputs": [
    {
     "data": {
      "text/plain": [
       "'\\ncreate table person\\n(\\npersonid int primary key,\\npersonname varchar(30),\\ncontactno varchar(15),\\nemailaddress varchar(50)\\n);\\n\\ni) alter table person add password varchar(10);\\n\\nii) alter table person drop password;\\n\\niii) alter table person rename column contactno to mobileno;\\n\\niv) alter table personal modify mobileno int;\\n\\n'"
      ]
     },
     "execution_count": 3,
     "metadata": {},
     "output_type": "execute_result"
    }
   ],
   "source": [
    "'''\n",
    "create table person\n",
    "(\n",
    "personid int primary key,\n",
    "personname varchar(30),\n",
    "contactno varchar(15),\n",
    "emailaddress varchar(50)\n",
    ");\n",
    "\n",
    "i) alter table person add password varchar(10);\n",
    "\n",
    "ii) alter table person drop password;\n",
    "\n",
    "iii) alter table person rename column contactno to mobileno;\n",
    "\n",
    "iv) alter table personal modify mobileno int;\n",
    "\n",
    "'''"
   ]
  },
  {
   "cell_type": "code",
   "execution_count": null,
   "id": "c9dcdffe",
   "metadata": {},
   "outputs": [],
   "source": []
  }
 ],
 "metadata": {
  "kernelspec": {
   "display_name": "Python 3",
   "language": "python",
   "name": "python3"
  },
  "language_info": {
   "codemirror_mode": {
    "name": "ipython",
    "version": 3
   },
   "file_extension": ".py",
   "mimetype": "text/x-python",
   "name": "python",
   "nbconvert_exporter": "python",
   "pygments_lexer": "ipython3",
   "version": "3.9.5"
  }
 },
 "nbformat": 4,
 "nbformat_minor": 5
}
